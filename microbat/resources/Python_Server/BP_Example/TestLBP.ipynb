{
 "cells": [
  {
   "cell_type": "code",
   "execution_count": 1,
   "id": "654b5238",
   "metadata": {},
   "outputs": [
    {
     "name": "stdout",
     "output_type": "stream",
     "text": [
      "Local cdn resources have problems on chrome/safari when used in jupyter-notebook. \n"
     ]
    }
   ],
   "source": [
    "import socket\n",
    "import time\n",
    "import numpy  as np\n",
    "import matplotlib.pyplot as plt\n",
    "\n",
    "plt.rc(\"text\", usetex=True)\n",
    "\n",
    "%run ./2-ImplementationFactor.ipynb\n",
    "%run ./3-ImplementationPGM.ipynb\n",
    "%run ./customizedLBP.ipynb"
   ]
  },
  {
   "cell_type": "markdown",
   "id": "69bcdfb6",
   "metadata": {},
   "source": [
    "## Settings for Test"
   ]
  },
  {
   "cell_type": "code",
   "execution_count": 2,
   "id": "c3f29b04",
   "metadata": {},
   "outputs": [],
   "source": [
    "# Setting for the message\n",
    "END = \"END\"\n",
    "MSG_BREAK = \"BREAK\"\n",
    "DILIMITER_1 = ','\n",
    "DILIMITER_2 = \"&\"\n",
    "MUL_SIGN = '*'\n",
    "STATEMENT_ID_PREFIX = \"S_\""
   ]
  },
  {
   "cell_type": "code",
   "execution_count": 3,
   "id": "0a27426f",
   "metadata": {},
   "outputs": [],
   "source": [
    "# Helper function\n",
    "def printProbDistribution(constraint, probs):\n",
    "    n = probs.size\n",
    "    print(\"-\"*20)\n",
    "    print(constraint + \" : \")\n",
    "    for i in range(0, n):\n",
    "        s = '{0:0' + str(probs.ndim) + 'b}'\n",
    "        indexes = [int(x) for x in list(s.format(i))]\n",
    "        prob = probs\n",
    "        for j in range(probs.ndim):\n",
    "            prob = prob[indexes[j]]\n",
    "        print(indexes, prob)\n",
    "    "
   ]
  },
  {
   "cell_type": "markdown",
   "id": "ba4e8d7f",
   "metadata": {},
   "source": [
    "### Test Case 1\n",
    "- Example from the paper"
   ]
  },
  {
   "cell_type": "markdown",
   "id": "5a57de05",
   "metadata": {},
   "source": [
    "<img src=\"./img/example_fg.png\" width=\"500\"/>"
   ]
  },
  {
   "cell_type": "code",
   "execution_count": 4,
   "id": "c6cb5cd8",
   "metadata": {},
   "outputs": [],
   "source": [
    "constraint1 = \"f1(x_1,x_2,x_3)\"\n",
    "constraint2 = \"f2(x_1,x_2,x_3)\"\n",
    "constraint3 = \"f3(x_2)\"\n",
    "constraint4 = \"f4(x_3)\"\n",
    "constraint = constraint1 + constraint2 + constraint3 + constraint4\n",
    "mrf = string2factor_graph(constraint)"
   ]
  },
  {
   "cell_type": "code",
   "execution_count": 5,
   "id": "4bee1716",
   "metadata": {},
   "outputs": [
    {
     "name": "stdout",
     "output_type": "stream",
     "text": [
      "--------------------\n",
      "f1(x_1,x_2,x_3) : \n",
      "[0, 0, 0] 0.95\n",
      "[0, 0, 1] 0.95\n",
      "[0, 1, 0] 0.95\n",
      "[0, 1, 1] 0.95\n",
      "[1, 0, 0] 0.95\n",
      "[1, 0, 1] 0.95\n",
      "[1, 1, 0] 0.05\n",
      "[1, 1, 1] 0.95\n",
      "--------------------\n",
      "f2(x_1,x_2,x_3) : \n",
      "[0, 0, 0] 0.95\n",
      "[0, 0, 1] 0.95\n",
      "[0, 1, 0] 0.95\n",
      "[0, 1, 1] 0.05\n",
      "[1, 0, 0] 0.95\n",
      "[1, 0, 1] 0.95\n",
      "[1, 1, 0] 0.95\n",
      "[1, 1, 1] 0.95\n",
      "--------------------\n",
      "f3(x_2) : \n",
      "[0] 0.05\n",
      "[1] 0.95\n",
      "--------------------\n",
      "f4(x_3) : \n",
      "[0] 0.95\n",
      "[1] 0.05\n"
     ]
    }
   ],
   "source": [
    "# Construct probability distribution for constraint 1\n",
    "prob = [0.95] * 8\n",
    "prob[6] = 0.05\n",
    "prob = np.array(prob)\n",
    "prob = prob.reshape((2, 2, 2))\n",
    "printProbDistribution(constraint1, prob)\n",
    "f1 = factor(['x_1', 'x_2', 'x_3'], prob.copy())\n",
    "\n",
    "# Construct probability distribution for constraint 2\n",
    "prob = [0.95] * 8\n",
    "prob[3] = 0.05\n",
    "prob = np.array(prob)\n",
    "prob = prob.reshape((2, 2, 2))\n",
    "printProbDistribution(constraint2, prob)\n",
    "f2 = factor(['x_1', 'x_2', 'x_3'], prob.copy())\n",
    "\n",
    "# Construct probability distribution for constraint 3\n",
    "prob = [0.95] * 2\n",
    "prob[0] = 0.05\n",
    "prob[1] = 0.95\n",
    "prob = np.array(prob)\n",
    "prob = prob.reshape((2))\n",
    "printProbDistribution(constraint3, prob)\n",
    "f3 = factor(['x_2'], prob.copy())\n",
    "\n",
    "# Construct probability distribution for constraint 4\n",
    "prob = [0.95] * 2\n",
    "prob[1] = 0.05\n",
    "prob[0] = 0.95\n",
    "prob = np.array(prob)\n",
    "prob = prob.reshape((2))\n",
    "printProbDistribution(constraint4, prob)\n",
    "f4 = factor(['x_3'], prob.copy())"
   ]
  },
  {
   "cell_type": "code",
   "execution_count": 6,
   "id": "9179d3bb",
   "metadata": {},
   "outputs": [],
   "source": [
    "mrf.change_factor_distribution('f1', f1)\n",
    "mrf.change_factor_distribution('f2', f2)\n",
    "mrf.change_factor_distribution('f3', f3)\n",
    "mrf.change_factor_distribution('f4', f4)"
   ]
  },
  {
   "cell_type": "code",
   "execution_count": 7,
   "id": "019fb6b9",
   "metadata": {},
   "outputs": [
    {
     "name": "stdout",
     "output_type": "stream",
     "text": [
      "LBP for  x_1 = 0.11026699093494574\n",
      "Exact for  x_1 = 0.13181818181818183\n"
     ]
    }
   ],
   "source": [
    "lbp = myLBP(mrf)\n",
    "var_name = 'x_1'\n",
    "margProb = lbp.belief([var_name], 20)\n",
    "\n",
    "print(\"LBP for \", var_name, \"=\", margProb[var_name])\n",
    "\n",
    "exact = factor_marginalization(joint_distribution([f1, f2, f3, f4]), ['x_2', 'x_3']).get_distribution()\n",
    "exact = exact / np.sum(exact)\n",
    "print(\"Exact for \", var_name, \"=\", exact[1])"
   ]
  },
  {
   "cell_type": "code",
   "execution_count": null,
   "id": "c88999ef",
   "metadata": {},
   "outputs": [],
   "source": []
  }
 ],
 "metadata": {
  "kernelspec": {
   "display_name": "Python 3 (ipykernel)",
   "language": "python",
   "name": "python3"
  },
  "language_info": {
   "codemirror_mode": {
    "name": "ipython",
    "version": 3
   },
   "file_extension": ".py",
   "mimetype": "text/x-python",
   "name": "python",
   "nbconvert_exporter": "python",
   "pygments_lexer": "ipython3",
   "version": "3.10.6"
  }
 },
 "nbformat": 4,
 "nbformat_minor": 5
}

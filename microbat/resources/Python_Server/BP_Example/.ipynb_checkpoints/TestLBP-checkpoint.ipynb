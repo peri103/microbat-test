{
 "cells": [
  {
   "cell_type": "code",
   "execution_count": 29,
   "id": "654b5238",
   "metadata": {},
   "outputs": [
    {
     "name": "stdout",
     "output_type": "stream",
     "text": [
      "Local cdn resources have problems on chrome/safari when used in jupyter-notebook. \n"
     ]
    }
   ],
   "source": [
    "import socket\n",
    "import time\n",
    "import numpy  as np\n",
    "import matplotlib.pyplot as plt\n",
    "\n",
    "plt.rc(\"text\", usetex=True)\n",
    "\n",
    "%run ./2-ImplementationFactor.ipynb\n",
    "%run ./3-ImplementationPGM.ipynb\n",
    "%run ./customizedLBP.ipynb"
   ]
  },
  {
   "cell_type": "markdown",
   "id": "69bcdfb6",
   "metadata": {},
   "source": [
    "## Settings for Test"
   ]
  },
  {
   "cell_type": "code",
   "execution_count": 2,
   "id": "c3f29b04",
   "metadata": {},
   "outputs": [],
   "source": [
    "# Setting for the message\n",
    "END = \"END\"\n",
    "MSG_BREAK = \"BREAK\"\n",
    "DILIMITER_1 = ','\n",
    "DILIMITER_2 = \"&\"\n",
    "MUL_SIGN = '*'\n",
    "STATEMENT_ID_PREFIX = \"S_\""
   ]
  },
  {
   "cell_type": "code",
   "execution_count": 24,
   "id": "0a27426f",
   "metadata": {},
   "outputs": [],
   "source": [
    "# Helper function\n",
    "def printProbDistribution(constraint, probs):\n",
    "    n = probs.size\n",
    "    print(\"-\"*20)\n",
    "    print(constraint + \" : \")\n",
    "    for i in range(0, n):\n",
    "        s = '{0:0' + str(probs.ndim) + 'b}'\n",
    "        indexes = [int(x) for x in list(s.format(i))]\n",
    "        prob = probs\n",
    "        for j in range(probs.ndim):\n",
    "            prob = prob[indexes[j]]\n",
    "        print(indexes, prob)\n",
    "    "
   ]
  },
  {
   "cell_type": "markdown",
   "id": "ba4e8d7f",
   "metadata": {},
   "source": [
    "### Test Case 1\n",
    "- Example from the paper"
   ]
  },
  {
   "cell_type": "code",
   "execution_count": 31,
   "id": "c6cb5cd8",
   "metadata": {},
   "outputs": [],
   "source": [
    "constraint1 = \"f1(x_1,x_2,x_3)\"\n",
    "constraint2 = \"f2(x_1,x_2,x_3)\"\n",
    "constraint3 = \"f3(x_2)\"\n",
    "constraint4 = \"f4(x_3)\"\n",
    "constraint = constraint1 + constraint2 + constraint3 + constraint4\n",
    "mrf = string2factor_graph(constraint)"
   ]
  },
  {
   "cell_type": "code",
   "execution_count": 32,
   "id": "4bee1716",
   "metadata": {},
   "outputs": [
    {
     "name": "stdout",
     "output_type": "stream",
     "text": [
      "--------------------\n",
      "f1(x_1,x_2,x_3) : \n",
      "[0, 0, 0] 0.95\n",
      "[0, 0, 1] 0.95\n",
      "[0, 1, 0] 0.95\n",
      "[0, 1, 1] 0.95\n",
      "[1, 0, 0] 0.95\n",
      "[1, 0, 1] 0.95\n",
      "[1, 1, 0] 0.05\n",
      "[1, 1, 1] 0.95\n",
      "--------------------\n",
      "f2(x_1,x_2,x_3) : \n",
      "[0, 0, 0] 0.95\n",
      "[0, 0, 1] 0.95\n",
      "[0, 1, 0] 0.95\n",
      "[0, 1, 1] 0.05\n",
      "[1, 0, 0] 0.95\n",
      "[1, 0, 1] 0.95\n",
      "[1, 1, 0] 0.95\n",
      "[1, 1, 1] 0.95\n",
      "--------------------\n",
      "f3(x_2) : \n",
      "[0] 0.05\n",
      "[1] 0.95\n",
      "--------------------\n",
      "f4(x_3) : \n",
      "[0] 0.95\n",
      "[1] 0.05\n"
     ]
    }
   ],
   "source": [
    "# Construct probability distribution for constraint 1\n",
    "prob = [0.95] * 8\n",
    "prob[6] = 0.05\n",
    "prob = np.array(prob)\n",
    "prob = prob.reshape((2, 2, 2))\n",
    "printProbDistribution(constraint1, prob)\n",
    "f1 = factor(['x_1', 'x_2', 'x_3'], prob.copy())\n",
    "\n",
    "# Construct probability distribution for constraint 2\n",
    "prob = [0.95] * 8\n",
    "prob[3] = 0.05\n",
    "prob = np.array(prob)\n",
    "prob = prob.reshape((2, 2, 2))\n",
    "printProbDistribution(constraint2, prob)\n",
    "f2 = factor(['x_1', 'x_2', 'x_3'], prob.copy())\n",
    "\n",
    "# Construct probability distribution for constraint 3\n",
    "prob = [0.95] * 2\n",
    "prob[0] = 0.05\n",
    "prob[1] = 0.95\n",
    "prob = np.array(prob)\n",
    "prob = prob.reshape((2))\n",
    "printProbDistribution(constraint3, prob)\n",
    "f3 = factor(['x_2'], prob.copy())\n",
    "\n",
    "# Construct probability distribution for constraint 4\n",
    "prob = [0.95] * 2\n",
    "prob[1] = 0.05\n",
    "prob[0] = 0.95\n",
    "prob = np.array(prob)\n",
    "prob = prob.reshape((2))\n",
    "printProbDistribution(constraint4, prob)\n",
    "f4 = factor(['x_3'], prob.copy())"
   ]
  },
  {
   "cell_type": "code",
   "execution_count": 33,
   "id": "9179d3bb",
   "metadata": {},
   "outputs": [],
   "source": [
    "mrf.change_factor_distribution('f1', f1)\n",
    "mrf.change_factor_distribution('f2', f2)\n",
    "mrf.change_factor_distribution('f3', f3)\n",
    "mrf.change_factor_distribution('f4', f4)"
   ]
  },
  {
   "cell_type": "code",
   "execution_count": 35,
   "id": "019fb6b9",
   "metadata": {},
   "outputs": [
    {
     "name": "stdout",
     "output_type": "stream",
     "text": [
      "LBP for  x_1 = 0.11026699093494574\n",
      "Exact for  x_1 = 0.13181818181818183\n"
     ]
    }
   ],
   "source": [
    "lbp = myLBP(mrf)\n",
    "var_name = 'x_1'\n",
    "margProb = lbp.belief([var_name], 20)\n",
    "\n",
    "print(\"LBP for \", var_name, \"=\", margProb[var_name])\n",
    "\n",
    "exact = factor_marginalization(joint_distribution([f1, f2, f3, f4]), ['x_2', 'x_3']).get_distribution()\n",
    "exact = exact / np.sum(exact)\n",
    "print(\"Exact for \", var_name, \"=\", exact[1])"
   ]
  },
  {
   "cell_type": "code",
   "execution_count": null,
   "id": "57aa8381",
   "metadata": {},
   "outputs": [],
   "source": []
  },
  {
   "cell_type": "code",
   "execution_count": null,
   "id": "260ce493",
   "metadata": {},
   "outputs": [],
   "source": []
  },
  {
   "cell_type": "code",
   "execution_count": null,
   "id": "9aab8840",
   "metadata": {},
   "outputs": [],
   "source": [
    "mrf = string2factor_graph(\"f1(x_1,s)f2(x_1,s)f3(x_2,s)f4(x_2,s)f5(x_1)f6(x_2)\")"
   ]
  },
  {
   "cell_type": "code",
   "execution_count": null,
   "id": "1e78b275",
   "metadata": {},
   "outputs": [],
   "source": [
    "prob = [0.95] * 4\n",
    "prob[2] = 0.05\n",
    "prob = np.array(prob)\n",
    "prob = prob.reshape((2, 2))\n",
    "\n",
    "for i in range(0, 4):\n",
    "    indexes = [int(x) for x in list('{0:02b}'.format(i))]\n",
    "    print(indexes, prob[indexes[0]][indexes[1]])\n",
    "    \n",
    "f1 = factor(['x_1', 's'], prob.copy())\n",
    "\n",
    "prob = [0.95] * 4\n",
    "prob[1] = 0.05\n",
    "prob = np.array(prob)\n",
    "prob = prob.reshape((2, 2))\n",
    "\n",
    "print(\"-\" * 30)\n",
    "for i in range(0, 4):\n",
    "    indexes = [int(x) for x in list('{0:02b}'.format(i))]\n",
    "    print(indexes, prob[indexes[0]][indexes[1]])\n",
    "    \n",
    "f2 = factor(['x_1', 's'], prob.copy())\n",
    "\n",
    "\n",
    "prob = [0.95] * 4\n",
    "prob[2] = 0.05\n",
    "\n",
    "prob = np.array(prob)\n",
    "prob = prob.reshape((2, 2))\n",
    "\n",
    "print(\"-\" * 30)\n",
    "for i in range(0, 4):\n",
    "    indexes = [int(x) for x in list('{0:02b}'.format(i))]\n",
    "    print(indexes, prob[indexes[0]][indexes[1]])\n",
    "    \n",
    "f3 = factor(['x_2', 's'], prob.copy())\n",
    "\n",
    "prob = [0.95] * 4\n",
    "prob[1] = 0.05\n",
    "prob = np.array(prob)\n",
    "prob = prob.reshape((2, 2))\n",
    "\n",
    "print(\"-\" * 30)\n",
    "for i in range(0, 4):\n",
    "    indexes = [int(x) for x in list('{0:02b}'.format(i))]\n",
    "    print(indexes, prob[indexes[0]][indexes[1]])\n",
    "\n",
    "f4 = factor(['x_2', 's'], prob.copy())\n",
    "r1 = 0.95\n",
    "r2 = 0.2\n",
    "w = 0.23\n",
    "f5 = factor(['x_1'], np.array([1-r1, r1]))\n",
    "f6 = factor(['x_2'], np.array([1-r2, r2]))\n",
    "\n",
    "# f4 = factor(['r1'], np.array([1-r1, r1]))\n",
    "# f5 = factor(['r2'], np.array([1-r2, r2]))\n",
    "# f6 = factor(['w'], np.array([1-w, w]))\n",
    "# f7 = factor(['p'], np.array([1-p, p]))"
   ]
  },
  {
   "cell_type": "code",
   "execution_count": null,
   "id": "35c0f1c1",
   "metadata": {},
   "outputs": [],
   "source": [
    "mrf.change_factor_distribution('f1', f1)\n",
    "mrf.change_factor_distribution('f2', f2)\n",
    "mrf.change_factor_distribution('f3', f3)\n",
    "mrf.change_factor_distribution('f4', f4)\n",
    "mrf.change_factor_distribution('f5', f5)\n",
    "mrf.change_factor_distribution('f6', f6)"
   ]
  },
  {
   "cell_type": "code",
   "execution_count": null,
   "id": "7401395e",
   "metadata": {},
   "outputs": [],
   "source": [
    "lbp = loopy_belief_propagation(mrf)\n",
    "tol = []\n",
    "\n",
    "# for i in range(15):\n",
    "#     tol.append(np.linalg.norm(lbp.belief('b', i).get_distribution() - exact))\n",
    "print(\"s\", lbp.belief('s', 20).get_distribution())"
   ]
  },
  {
   "cell_type": "code",
   "execution_count": null,
   "id": "481cfe5e",
   "metadata": {},
   "outputs": [],
   "source": [
    "bp = belief_propagation(mrf)"
   ]
  },
  {
   "cell_type": "code",
   "execution_count": null,
   "id": "d2432337",
   "metadata": {},
   "outputs": [],
   "source": [
    "print(\"s\", bp.belief('s').get_distribution())"
   ]
  },
  {
   "cell_type": "code",
   "execution_count": null,
   "id": "bdc920fb",
   "metadata": {},
   "outputs": [],
   "source": [
    "exact = factor_marginalization(joint_distribution([f1, f2, f3, f4, f5, f6]), ['x_1', 'x_2']).get_distribution()\n",
    "exact = exact / np.sum(exact)\n",
    "exact"
   ]
  },
  {
   "cell_type": "code",
   "execution_count": null,
   "id": "5253b5b2",
   "metadata": {},
   "outputs": [],
   "source": []
  },
  {
   "cell_type": "code",
   "execution_count": null,
   "id": "7d5c1c0f",
   "metadata": {},
   "outputs": [],
   "source": []
  },
  {
   "cell_type": "code",
   "execution_count": null,
   "id": "0f422d73",
   "metadata": {},
   "outputs": [],
   "source": [
    "mrf = string2factor_graph(\"f1(a,b,c,d)f2(a,b,c,e)f3(a,b,c,d,e)f4(a,b,c,d,e)f5(a,b,c,d,e)f6(b)f7(c)f8(d)f9(e)\")"
   ]
  },
  {
   "cell_type": "code",
   "execution_count": null,
   "id": "496764b0",
   "metadata": {},
   "outputs": [],
   "source": [
    "prob = [0.95] * 16\n",
    "prob[14] = 0.05\n",
    "prob = np.array(prob)\n",
    "prob = prob.reshape((2, 2, 2, 2))\n",
    "\n",
    "for i in range(0, 16):\n",
    "    indexes = [int(x) for x in list('{0:04b}'.format(i))]\n",
    "    print(indexes, prob[indexes[0]][indexes[1]][indexes[2]][indexes[3]])\n",
    "    \n",
    "f1 = factor(['a', 'b', 'c', 'd'], prob.copy())\n",
    "\n",
    "prob = [0.95] * 16\n",
    "prob[14] = 0.05\n",
    "prob = np.array(prob)\n",
    "prob = prob.reshape((2, 2, 2, 2))\n",
    "\n",
    "for i in range(0, 16):\n",
    "    indexes = [int(x) for x in list('{0:04b}'.format(i))]\n",
    "    print(indexes, prob[indexes[0]][indexes[1]][indexes[2]][indexes[3]])\n",
    "    \n",
    "f2 = factor(['a', 'b', 'c', 'e'], prob.copy())\n",
    "\n",
    "prob = [0.95] * 32\n",
    "prob[15] = 0.05\n",
    "prob = np.array(prob)\n",
    "prob = prob.reshape((2, 2, 2, 2, 2))\n",
    "\n",
    "for i in range(0, 32):\n",
    "    indexes = [int(x) for x in list('{0:05b}'.format(i))]\n",
    "    print(indexes, prob[indexes[0]][indexes[1]][indexes[2]][indexes[3]][indexes[4]])\n",
    "    \n",
    "f3 = factor(['a', 'b', 'c', 'd', 'e'], prob.copy())\n",
    "\n",
    "prob = [0.95] * 32\n",
    "prob[23] = 0.05\n",
    "prob = np.array(prob)\n",
    "prob = prob.reshape((2, 2, 2, 2, 2))\n",
    "\n",
    "for i in range(0, 32):\n",
    "    indexes = [int(x) for x in list('{0:05b}'.format(i))]\n",
    "    print(indexes, prob[indexes[0]][indexes[1]][indexes[2]][indexes[3]][indexes[4]])\n",
    "    \n",
    "f4 = factor(['a', 'b', 'c', 'd', 'e'], prob.copy())\n",
    "\n",
    "prob = [0.95] * 32\n",
    "prob[27] = 0.05\n",
    "prob = np.array(prob)\n",
    "prob = prob.reshape((2, 2, 2, 2, 2))\n",
    "\n",
    "for i in range(0, 32):\n",
    "    indexes = [int(x) for x in list('{0:05b}'.format(i))]\n",
    "    print(indexes, prob[indexes[0]][indexes[1]][indexes[2]][indexes[3]][indexes[4]])\n",
    "    \n",
    "f5 = factor(['a', 'b', 'c', 'd', 'e'], prob.copy())\n",
    "\n",
    "r1 = 1\n",
    "r2 = 1\n",
    "r3 = 1\n",
    "r4 = 1\n",
    "\n",
    "f6 = factor(['b'], np.array([1-r1, r1]))\n",
    "f7 = factor(['c'], np.array([1-r1, r1]))\n",
    "f8 = factor(['d'], np.array([1-r1, r1]))\n",
    "f9 = factor(['e'], np.array([1-r1, r1]))\n",
    "# prob = [0.95] * 4\n",
    "# prob[1] = 0.05\n",
    "# prob = np.array(prob)\n",
    "# prob = prob.reshape((2, 2))\n",
    "\n",
    "# print(\"-\" * 30)\n",
    "# for i in range(0, 4):\n",
    "#     indexes = [int(x) for x in list('{0:02b}'.format(i))]\n",
    "#     print(indexes, prob[indexes[0]][indexes[1]])\n",
    "    \n",
    "# f3 = factor(['b', 's'], prob.copy())\n",
    "\n",
    "# prob = [0.95] * 4\n",
    "# prob[2] = 0.05\n",
    "# prob = np.array(prob)\n",
    "# prob = prob.reshape((2, 2))\n",
    "\n",
    "# print(\"-\" * 30)\n",
    "# for i in range(0, 4):\n",
    "#     indexes = [int(x) for x in list('{0:02b}'.format(i))]\n",
    "#     print(indexes, prob[indexes[0]][indexes[1]])\n",
    "    \n",
    "# f4 = factor(['b', 's'], prob.copy())\n",
    "\n",
    "# prob = [0.95] * 4\n",
    "# prob[1] = 0.05\n",
    "# prob = np.array(prob)\n",
    "# prob = prob.reshape((2, 2))\n",
    "\n",
    "# print(\"-\" * 30)\n",
    "# for i in range(0, 4):\n",
    "#     indexes = [int(x) for x in list('{0:02b}'.format(i))]\n",
    "#     print(indexes, prob[indexes[0]][indexes[1]])\n",
    "    \n",
    "# f5 = factor(['c', 's'], prob.copy())\n",
    "\n",
    "# prob = [0.95] * 4\n",
    "# prob[2] = 0.05\n",
    "# prob = np.array(prob)\n",
    "# prob = prob.reshape((2, 2))\n",
    "\n",
    "# print(\"-\" * 30)\n",
    "# for i in range(0, 4):\n",
    "#     indexes = [int(x) for x in list('{0:02b}'.format(i))]\n",
    "#     print(indexes, prob[indexes[0]][indexes[1]])\n",
    "    \n",
    "# f6 = factor(['c', 's'], prob.copy())\n",
    "\n",
    "# r1 = 0.75\n",
    "# r2 = 0.01\n",
    "# r3 = 0.6\n",
    "\n",
    "# f7 = factor(['a'], np.array([1-r1, r1]))\n",
    "# f8 = factor(['b'], np.array([1-r2, r2]))\n",
    "# f9 = factor(['c'], np.array([1-r3, r3]))\n",
    "\n"
   ]
  },
  {
   "cell_type": "code",
   "execution_count": null,
   "id": "15557711",
   "metadata": {},
   "outputs": [],
   "source": [
    "mrf.change_factor_distribution('f1', f1)\n",
    "mrf.change_factor_distribution('f2', f2)\n",
    "mrf.change_factor_distribution('f3', f3)\n",
    "mrf.change_factor_distribution('f4', f4)\n",
    "mrf.change_factor_distribution('f5', f5)\n",
    "mrf.change_factor_distribution('f6', f6)\n",
    "mrf.change_factor_distribution('f7', f7)\n",
    "mrf.change_factor_distribution('f8', f8)\n",
    "mrf.change_factor_distribution('f9', f9)"
   ]
  },
  {
   "cell_type": "code",
   "execution_count": null,
   "id": "58e1e772",
   "metadata": {},
   "outputs": [],
   "source": [
    "lbp = loopy_belief_propagation(mrf)\n",
    "tol = []\n",
    "\n",
    "# for i in range(15):\n",
    "#     tol.append(np.linalg.norm(lbp.belief('b', i).get_distribution() - exact))\n",
    "print(\"a\", lbp.belief('a', 20).get_distribution())"
   ]
  },
  {
   "cell_type": "code",
   "execution_count": null,
   "id": "b59d1e8b",
   "metadata": {},
   "outputs": [],
   "source": [
    "exact = factor_marginalization(joint_distribution([f1, f2, f3]), ['a']).get_distribution()\n",
    "exact = exact / np.sum(exact)\n",
    "exact"
   ]
  },
  {
   "cell_type": "code",
   "execution_count": null,
   "id": "ace32398",
   "metadata": {},
   "outputs": [],
   "source": [
    "l = np.array(['a'], dtype)"
   ]
  },
  {
   "cell_type": "code",
   "execution_count": null,
   "id": "1ff58925",
   "metadata": {},
   "outputs": [],
   "source": [
    "str(l[0]).startswith('a')"
   ]
  },
  {
   "cell_type": "code",
   "execution_count": null,
   "id": "c4c3ad49",
   "metadata": {},
   "outputs": [],
   "source": []
  }
 ],
 "metadata": {
  "kernelspec": {
   "display_name": "Python 3 (ipykernel)",
   "language": "python",
   "name": "python3"
  },
  "language_info": {
   "codemirror_mode": {
    "name": "ipython",
    "version": 3
   },
   "file_extension": ".py",
   "mimetype": "text/x-python",
   "name": "python",
   "nbconvert_exporter": "python",
   "pygments_lexer": "ipython3",
   "version": "3.10.6"
  }
 },
 "nbformat": 4,
 "nbformat_minor": 5
}

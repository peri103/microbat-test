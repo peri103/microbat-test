{
 "cells": [
  {
   "cell_type": "markdown",
   "id": "fe7894bd",
   "metadata": {},
   "source": [
    "## Install All Packages Needed"
   ]
  },
  {
   "cell_type": "code",
   "execution_count": 1,
   "id": "b53951ec",
   "metadata": {},
   "outputs": [
    {
     "name": "stdout",
     "output_type": "stream",
     "text": [
      "Requirement already satisfied: sockets in c:\\users\\arkwa\\anaconda3\\envs\\debug_simulation\\lib\\site-packages (1.0.0)\n",
      "Requirement already satisfied: numpy in c:\\users\\arkwa\\anaconda3\\envs\\debug_simulation\\lib\\site-packages (1.23.3)\n",
      "Requirement already satisfied: igraph in c:\\users\\arkwa\\anaconda3\\envs\\debug_simulation\\lib\\site-packages (0.10.1)\n",
      "Requirement already satisfied: texttable>=1.6.2 in c:\\users\\arkwa\\anaconda3\\envs\\debug_simulation\\lib\\site-packages (from igraph) (1.6.4)\n",
      "Requirement already satisfied: matplotlib in c:\\users\\arkwa\\anaconda3\\envs\\debug_simulation\\lib\\site-packages (3.6.1)\n",
      "Requirement already satisfied: numpy>=1.19 in c:\\users\\arkwa\\anaconda3\\envs\\debug_simulation\\lib\\site-packages (from matplotlib) (1.23.3)\n",
      "Requirement already satisfied: pillow>=6.2.0 in c:\\users\\arkwa\\anaconda3\\envs\\debug_simulation\\lib\\site-packages (from matplotlib) (9.2.0)\n",
      "Requirement already satisfied: kiwisolver>=1.0.1 in c:\\users\\arkwa\\anaconda3\\envs\\debug_simulation\\lib\\site-packages (from matplotlib) (1.4.4)\n",
      "Requirement already satisfied: cycler>=0.10 in c:\\users\\arkwa\\anaconda3\\envs\\debug_simulation\\lib\\site-packages (from matplotlib) (0.11.0)\n",
      "Requirement already satisfied: pyparsing>=2.2.1 in c:\\users\\arkwa\\anaconda3\\envs\\debug_simulation\\lib\\site-packages (from matplotlib) (3.0.9)\n",
      "Requirement already satisfied: contourpy>=1.0.1 in c:\\users\\arkwa\\anaconda3\\envs\\debug_simulation\\lib\\site-packages (from matplotlib) (1.0.5)\n",
      "Requirement already satisfied: fonttools>=4.22.0 in c:\\users\\arkwa\\anaconda3\\envs\\debug_simulation\\lib\\site-packages (from matplotlib) (4.37.4)\n",
      "Requirement already satisfied: python-dateutil>=2.7 in c:\\users\\arkwa\\anaconda3\\envs\\debug_simulation\\lib\\site-packages (from matplotlib) (2.8.2)\n",
      "Requirement already satisfied: packaging>=20.0 in c:\\users\\arkwa\\anaconda3\\envs\\debug_simulation\\lib\\site-packages (from matplotlib) (21.3)\n",
      "Requirement already satisfied: six>=1.5 in c:\\users\\arkwa\\anaconda3\\envs\\debug_simulation\\lib\\site-packages (from python-dateutil>=2.7->matplotlib) (1.16.0)\n",
      "Requirement already satisfied: pyvis in c:\\users\\arkwa\\anaconda3\\envs\\debug_simulation\\lib\\site-packages (0.3.0)\n",
      "Requirement already satisfied: ipython>=5.3.0 in c:\\users\\arkwa\\anaconda3\\envs\\debug_simulation\\lib\\site-packages (from pyvis) (8.4.0)\n",
      "Requirement already satisfied: jsonpickle>=1.4.1 in c:\\users\\arkwa\\anaconda3\\envs\\debug_simulation\\lib\\site-packages (from pyvis) (2.2.0)\n",
      "Requirement already satisfied: networkx>=1.11 in c:\\users\\arkwa\\anaconda3\\envs\\debug_simulation\\lib\\site-packages (from pyvis) (2.8.7)\n",
      "Requirement already satisfied: jinja2>=2.9.6 in c:\\users\\arkwa\\anaconda3\\envs\\debug_simulation\\lib\\site-packages (from pyvis) (3.0.3)\n",
      "Requirement already satisfied: traitlets>=5 in c:\\users\\arkwa\\anaconda3\\envs\\debug_simulation\\lib\\site-packages (from ipython>=5.3.0->pyvis) (5.1.1)\n",
      "Requirement already satisfied: setuptools>=18.5 in c:\\users\\arkwa\\anaconda3\\envs\\debug_simulation\\lib\\site-packages (from ipython>=5.3.0->pyvis) (63.4.1)\n",
      "Requirement already satisfied: stack-data in c:\\users\\arkwa\\anaconda3\\envs\\debug_simulation\\lib\\site-packages (from ipython>=5.3.0->pyvis) (0.2.0)\n",
      "Requirement already satisfied: backcall in c:\\users\\arkwa\\anaconda3\\envs\\debug_simulation\\lib\\site-packages (from ipython>=5.3.0->pyvis) (0.2.0)\n",
      "Requirement already satisfied: pygments>=2.4.0 in c:\\users\\arkwa\\anaconda3\\envs\\debug_simulation\\lib\\site-packages (from ipython>=5.3.0->pyvis) (2.11.2)\n",
      "Requirement already satisfied: matplotlib-inline in c:\\users\\arkwa\\anaconda3\\envs\\debug_simulation\\lib\\site-packages (from ipython>=5.3.0->pyvis) (0.1.6)\n",
      "Requirement already satisfied: jedi>=0.16 in c:\\users\\arkwa\\anaconda3\\envs\\debug_simulation\\lib\\site-packages (from ipython>=5.3.0->pyvis) (0.18.1)\n",
      "Requirement already satisfied: pickleshare in c:\\users\\arkwa\\anaconda3\\envs\\debug_simulation\\lib\\site-packages (from ipython>=5.3.0->pyvis) (0.7.5)\n",
      "Requirement already satisfied: decorator in c:\\users\\arkwa\\anaconda3\\envs\\debug_simulation\\lib\\site-packages (from ipython>=5.3.0->pyvis) (5.1.1)\n",
      "Requirement already satisfied: colorama in c:\\users\\arkwa\\anaconda3\\envs\\debug_simulation\\lib\\site-packages (from ipython>=5.3.0->pyvis) (0.4.5)\n",
      "Requirement already satisfied: prompt-toolkit!=3.0.0,!=3.0.1,<3.1.0,>=2.0.0 in c:\\users\\arkwa\\anaconda3\\envs\\debug_simulation\\lib\\site-packages (from ipython>=5.3.0->pyvis) (3.0.20)\n",
      "Requirement already satisfied: MarkupSafe>=2.0 in c:\\users\\arkwa\\anaconda3\\envs\\debug_simulation\\lib\\site-packages (from jinja2>=2.9.6->pyvis) (2.1.1)\n",
      "Requirement already satisfied: parso<0.9.0,>=0.8.0 in c:\\users\\arkwa\\anaconda3\\envs\\debug_simulation\\lib\\site-packages (from jedi>=0.16->ipython>=5.3.0->pyvis) (0.8.3)\n",
      "Requirement already satisfied: wcwidth in c:\\users\\arkwa\\anaconda3\\envs\\debug_simulation\\lib\\site-packages (from prompt-toolkit!=3.0.0,!=3.0.1,<3.1.0,>=2.0.0->ipython>=5.3.0->pyvis) (0.2.5)\n",
      "Requirement already satisfied: executing in c:\\users\\arkwa\\anaconda3\\envs\\debug_simulation\\lib\\site-packages (from stack-data->ipython>=5.3.0->pyvis) (0.8.3)\n",
      "Requirement already satisfied: asttokens in c:\\users\\arkwa\\anaconda3\\envs\\debug_simulation\\lib\\site-packages (from stack-data->ipython>=5.3.0->pyvis) (2.0.5)\n",
      "Requirement already satisfied: pure-eval in c:\\users\\arkwa\\anaconda3\\envs\\debug_simulation\\lib\\site-packages (from stack-data->ipython>=5.3.0->pyvis) (0.2.2)\n",
      "Requirement already satisfied: six in c:\\users\\arkwa\\anaconda3\\envs\\debug_simulation\\lib\\site-packages (from asttokens->stack-data->ipython>=5.3.0->pyvis) (1.16.0)\n"
     ]
    }
   ],
   "source": [
    "import sys\n",
    "!{sys.executable} -m pip install sockets\n",
    "!{sys.executable} -m pip install numpy\n",
    "!{sys.executable} -m pip install igraph\n",
    "!{sys.executable} -m pip install matplotlib\n",
    "!{sys.executable} -m pip install pyvis"
   ]
  },
  {
   "cell_type": "markdown",
   "id": "10e03e68",
   "metadata": {},
   "source": [
    "## Import Packages"
   ]
  },
  {
   "cell_type": "code",
   "execution_count": 1,
   "id": "c01ac51e",
   "metadata": {},
   "outputs": [
    {
     "name": "stdout",
     "output_type": "stream",
     "text": [
      "Local cdn resources have problems on chrome/safari when used in jupyter-notebook. \n"
     ]
    }
   ],
   "source": [
    "import socket\n",
    "import time\n",
    "\n",
    "import numpy  as np\n",
    "import igraph as ig\n",
    "import matplotlib.pyplot as plt\n",
    "\n",
    "plt.rc(\"text\", usetex=True)\n",
    "\n",
    "%run ./2-ImplementationFactor.ipynb\n",
    "%run ./3-ImplementationPGM.ipynb\n",
    "%run ./customizedLBP.ipynb"
   ]
  },
  {
   "cell_type": "markdown",
   "id": "1f41cbd6",
   "metadata": {},
   "source": [
    "## Environment Configuration\n",
    "\n",
    "The configuration of the environment include:\n",
    "- HOST, PORT: Server setting\n",
    "- ENCODING_METHOD: Encoding method for the message communicate (do not change)\n",
    "- BUFFER_SIZE: Buffer size for server and client (do not change)\n",
    "- END, MSG_BREAK, DILIMITER_1, DILIMITER_2, MUL_SIGN, STATEMENT_ID_PREFIX: Setting for the message (do not change)\n",
    "- MAX_ITR: Maximum iteration run by the loopy belief propagation if it does not converge"
   ]
  },
  {
   "cell_type": "code",
   "execution_count": 2,
   "id": "0acea654",
   "metadata": {},
   "outputs": [],
   "source": [
    "# Server setting\n",
    "HOST = \"127.0.0.1\"\n",
    "PORT = 8080\n",
    "\n",
    "# Encoding method\n",
    "ENCODING_METHOD = \"UTF-8\"\n",
    "\n",
    "# Buffer size for the message\n",
    "BUFFER_SIZE = pow(2, 20)\n",
    "\n",
    "# Setting for the message\n",
    "END = \"END\"\n",
    "MSG_BREAK = \"BREAK\"\n",
    "DILIMITER_1 = ','\n",
    "DILIMITER_2 = \"&\"\n",
    "MUL_SIGN = '*'\n",
    "STATEMENT_ID_PREFIX = \"S_\"\n",
    "\n",
    "# Maximum iteration\n",
    "MAX_ITR = 20"
   ]
  },
  {
   "cell_type": "markdown",
   "id": "118005db",
   "metadata": {},
   "source": [
    "## Helper functions for server"
   ]
  },
  {
   "cell_type": "code",
   "execution_count": 3,
   "id": "fd3afdf8",
   "metadata": {},
   "outputs": [],
   "source": [
    "def factorLoader(factor_input):\n",
    "    tokens = factor_input.split(DILIMITER_2)\n",
    "    for idx in range(0, len(tokens), 4):\n",
    "        yield tokens[idx], tokens[idx+1], tokens[idx+2], tokens[idx+3]"
   ]
  },
  {
   "cell_type": "code",
   "execution_count": 4,
   "id": "733d5686",
   "metadata": {},
   "outputs": [],
   "source": [
    "def printGraphInput(str_):\n",
    "    print(\"graph input:\")\n",
    "    str_tokens = [i.split('(') for i in str_.split(')') if i != '']\n",
    "    for token in str_tokens:\n",
    "        print(token[0], token[1].split(','))"
   ]
  },
  {
   "cell_type": "code",
   "execution_count": 5,
   "id": "612baf15",
   "metadata": {},
   "outputs": [],
   "source": [
    "def checkDuplicateVar(str_):\n",
    "    str_tokens = [i.split('(') for i in str_.split(')') if i != '']\n",
    "    for token in str_tokens:\n",
    "        vars = token[1].split(',')\n",
    "        if len(vars) != len(set(vars)):\n",
    "            print(\"contain duplicate variables: \", token[0])\n",
    "            print(vars)\n",
    "            raise ValueError('Duplicated variables: ' + token[0])"
   ]
  },
  {
   "cell_type": "code",
   "execution_count": 6,
   "id": "515d2c09",
   "metadata": {},
   "outputs": [],
   "source": [
    "def printFactorInput(factor_input):\n",
    "    print(\"factor input:\")\n",
    "    tokens = factor_input.split(DILIMITER_2)\n",
    "    for idx in range(0, len(tokens), 4):\n",
    "        print(\"Node:\", tokens[idx], tokens[idx+1], tokens[idx+2], tokens[idx+3])"
   ]
  },
  {
   "cell_type": "code",
   "execution_count": 7,
   "id": "8e30fd63",
   "metadata": {},
   "outputs": [],
   "source": [
    "def recvMsg(conn):\n",
    "    graph_input = \"\"\n",
    "    factor_input = \"\"\n",
    "    \n",
    "    # Read Graph Input\n",
    "    while True:\n",
    "        message = conn.recv(BUFFER_SIZE)\n",
    "        if not message:\n",
    "            return None, None\n",
    "        message_str = message.decode(ENCODING_METHOD)\n",
    "        if message_str == MSG_BREAK:\n",
    "            break\n",
    "        else:\n",
    "            graph_input += message_str\n",
    "    \n",
    "    # Read Factor Input\n",
    "    while True:\n",
    "        message = conn.recv(BUFFER_SIZE)\n",
    "        if not message:\n",
    "            return None, None\n",
    "        message_str = message.decode(ENCODING_METHOD)\n",
    "        if message_str == MSG_BREAK:\n",
    "            break\n",
    "        else:\n",
    "            factor_input += message_str\n",
    "    \n",
    "    print(\"graph input size: \", len(graph_input))\n",
    "    print(\"factor input size: \", len(factor_input))\n",
    "    \n",
    "    return graph_input, factor_input "
   ]
  },
  {
   "cell_type": "code",
   "execution_count": 8,
   "id": "2b238f51",
   "metadata": {},
   "outputs": [],
   "source": [
    "def printNodeCount(graph):\n",
    "    factor_node_count = 0\n",
    "    var_node_count = 0\n",
    "    \n",
    "    for i in range(graph.vcount()):\n",
    "        if graph.vs[i]['is_factor']:\n",
    "            factor_node_count += 1\n",
    "        else:\n",
    "            var_node_count += 1\n",
    "            \n",
    "    print(\"var node count:\", var_node_count, \"factor node count:\", factor_node_count, \"total:\", factor_node_count + var_node_count)\n",
    "    print(\"edges count:\", graph.ecount())"
   ]
  },
  {
   "cell_type": "markdown",
   "id": "f9c2d249",
   "metadata": {},
   "source": [
    "## Server"
   ]
  },
  {
   "cell_type": "code",
   "execution_count": 9,
   "id": "3c50b0f0",
   "metadata": {},
   "outputs": [],
   "source": [
    "def startServer():\n",
    "    with socket.socket(socket.AF_INET, socket.SOCK_STREAM) as s:\n",
    "        s.bind((HOST, PORT))\n",
    "        stillWorking = True\n",
    "        while stillWorking:\n",
    "            s.listen()\n",
    "            conn, addr = s.accept()\n",
    "            with conn:\n",
    "                print(f\"Connected by {addr}\")\n",
    "\n",
    "                while True:\n",
    "                    print(\"-\"*20)\n",
    "                    graph_input, factor_input = recvMsg(conn)\n",
    "                    \n",
    "                    if not graph_input or not factor_input:\n",
    "#                         print(\"Error: Graph input or factor input is null\")\n",
    "                        response = \"\".encode(ENCODING_METHOD)\n",
    "                        conn.sendall(response)\n",
    "                        break\n",
    "\n",
    "#                     graph_input = graph_input.decode(ENCODING_METHOD)\n",
    "#                     factor_input = factor_input.decode(ENCODING_METHOD)\n",
    "                    \n",
    "                    \n",
    "#                     print(\"graph_input\", graph_input)\n",
    "#                     print(\"factor_input\", factor_input)\n",
    "#                     printGraphInput(graph_input)\n",
    "#                     printFactorInput(factor_input)\n",
    "        \n",
    "                    checkDuplicateVar(graph_input)\n",
    "                    if graph_input == END and factor_input == END:\n",
    "                        output_str = END\n",
    "                        response = output_str.encode(ENCODING_METHOD)\n",
    "                        print(\"response:\", response)\n",
    "                        conn.sendall(response)\n",
    "                        print(\"Terminate server...\")\n",
    "                        stillWorking = False\n",
    "                        break\n",
    "\n",
    "                    fg = string2factor_graph(graph_input)\n",
    "\n",
    "                    predIDs_all = set()\n",
    "                    for order, constraintID, predIDs_str, probs_str in factorLoader(factor_input):\n",
    "                        try:\n",
    "                            predIDs = predIDs_str.split(DILIMITER_1)\n",
    "\n",
    "        #                     print(predIDs)\n",
    "                            predIDs_all.update(predIDs)\n",
    "                            predCount = len(predIDs)\n",
    "\n",
    "                            shape = [2 for _ in range(predCount)]\n",
    "                            shape = tuple(shape)\n",
    "\n",
    "                            probs_tokens = probs_str.split(DILIMITER_1)\n",
    "                            \n",
    "                            probs = []\n",
    "                            for probs_token in probs_tokens:\n",
    "                                probs_str, count = probs_token.split(MUL_SIGN)\n",
    "                                count = int(count)\n",
    "                                prob = float(probs_str)\n",
    "                                for _ in range(count):\n",
    "                                    probs.append(prob)\n",
    "                                    \n",
    "                            probs = np.array(probs)\n",
    "                            probs = probs.reshape(shape)\n",
    "\n",
    "                            fg.change_factor_distribution(constraintID, factor(predIDs,  probs))\n",
    "                        except Exception as e:\n",
    "                            print(e)\n",
    "                            print(\"constraintID:\", constraintID)\n",
    "                            print(\"predIDs_str:\", predIDs_str)\n",
    "                            print(\"probs_str:\", probs_str)\n",
    "                            return\n",
    "\n",
    "                    printNodeCount(fg.get_graph())\n",
    "                            \n",
    "                    lbp = myLBP(fg)\n",
    "                    start = time.time()\n",
    "                    margProb = lbp.belief(predIDs_all, MAX_ITR)\n",
    "                    end = time.time()\n",
    "                    \n",
    "                    print(\"time needed: \", end - start)\n",
    "                    plot_factor_graph(fg)\n",
    "                    output_str = \"\"\n",
    "                    for predID, prob in margProb.items():\n",
    "#                         print(predID, prob)\n",
    "                        output_str += predID + DILIMITER_1 + str(prob)\n",
    "                        output_str += DILIMITER_2\n",
    "\n",
    "                    output_str = output_str[:-1]\n",
    "                    response = output_str.encode(ENCODING_METHOD)\n",
    "#                     print(\"response:\", response)\n",
    "                    conn.sendall(response)"
   ]
  },
  {
   "cell_type": "code",
   "execution_count": 10,
   "id": "6a7697f4",
   "metadata": {},
   "outputs": [
    {
     "name": "stdout",
     "output_type": "stream",
     "text": [
      "Connected by ('127.0.0.1', 50568)\n",
      "--------------------\n",
      "graph input size:  1256\n",
      "factor input size:  1467\n",
      "var node count: 4 factor node count: 10 total: 14\n",
      "edges count: 20\n"
     ]
    },
    {
     "ename": "NameError",
     "evalue": "name 'loopy_belief_propagation' is not defined",
     "output_type": "error",
     "traceback": [
      "\u001b[1;31m---------------------------------------------------------------------------\u001b[0m",
      "\u001b[1;31mNameError\u001b[0m                                 Traceback (most recent call last)",
      "Input \u001b[1;32mIn [10]\u001b[0m, in \u001b[0;36m<cell line: 1>\u001b[1;34m()\u001b[0m\n\u001b[1;32m----> 1\u001b[0m \u001b[43mstartServer\u001b[49m\u001b[43m(\u001b[49m\u001b[43m)\u001b[49m\n",
      "Input \u001b[1;32mIn [9]\u001b[0m, in \u001b[0;36mstartServer\u001b[1;34m()\u001b[0m\n\u001b[0;32m     73\u001b[0m         \u001b[38;5;28;01mreturn\u001b[39;00m\n\u001b[0;32m     75\u001b[0m printNodeCount(fg\u001b[38;5;241m.\u001b[39mget_graph())\n\u001b[1;32m---> 77\u001b[0m lbp \u001b[38;5;241m=\u001b[39m \u001b[43mloopy_belief_propagation\u001b[49m(fg)\n\u001b[0;32m     78\u001b[0m start \u001b[38;5;241m=\u001b[39m time\u001b[38;5;241m.\u001b[39mtime()\n\u001b[0;32m     79\u001b[0m margProb \u001b[38;5;241m=\u001b[39m lbp\u001b[38;5;241m.\u001b[39mbelief(predIDs_all, MAX_ITR)\n",
      "\u001b[1;31mNameError\u001b[0m: name 'loopy_belief_propagation' is not defined"
     ]
    }
   ],
   "source": [
    "startServer()"
   ]
  },
  {
   "cell_type": "code",
   "execution_count": null,
   "id": "4458d355",
   "metadata": {},
   "outputs": [],
   "source": []
  },
  {
   "cell_type": "code",
   "execution_count": null,
   "id": "c1cc781c",
   "metadata": {},
   "outputs": [],
   "source": []
  },
  {
   "cell_type": "code",
   "execution_count": null,
   "id": "7db088f1",
   "metadata": {},
   "outputs": [],
   "source": []
  },
  {
   "cell_type": "code",
   "execution_count": null,
   "id": "74abeaf4",
   "metadata": {},
   "outputs": [],
   "source": []
  },
  {
   "cell_type": "code",
   "execution_count": null,
   "id": "49b4d5a6",
   "metadata": {},
   "outputs": [],
   "source": []
  },
  {
   "cell_type": "code",
   "execution_count": null,
   "id": "159ef7a5",
   "metadata": {},
   "outputs": [],
   "source": []
  },
  {
   "cell_type": "code",
   "execution_count": null,
   "id": "8388ff50",
   "metadata": {},
   "outputs": [],
   "source": []
  },
  {
   "cell_type": "code",
   "execution_count": null,
   "id": "dce54814",
   "metadata": {},
   "outputs": [],
   "source": []
  }
 ],
 "metadata": {
  "kernelspec": {
   "display_name": "Python 3 (ipykernel)",
   "language": "python",
   "name": "python3"
  },
  "language_info": {
   "codemirror_mode": {
    "name": "ipython",
    "version": 3
   },
   "file_extension": ".py",
   "mimetype": "text/x-python",
   "name": "python",
   "nbconvert_exporter": "python",
   "pygments_lexer": "ipython3",
   "version": "3.10.6"
  }
 },
 "nbformat": 4,
 "nbformat_minor": 5
}

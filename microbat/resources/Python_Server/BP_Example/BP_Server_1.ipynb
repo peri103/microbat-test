{
 "cells": [
  {
   "cell_type": "markdown",
   "id": "fe7894bd",
   "metadata": {},
   "source": [
    "## Install All Packages Needed"
   ]
  },
  {
   "cell_type": "code",
   "execution_count": null,
   "id": "b53951ec",
   "metadata": {},
   "outputs": [],
   "source": [
    "import sys\n",
    "!{sys.executable} -m pip install sockets\n",
    "!{sys.executable} -m pip install numpy\n",
    "!{sys.executable} -m pip install igraph\n",
    "!{sys.executable} -m pip install matplotlib\n",
    "!{sys.executable} -m pip install pyvis"
   ]
  },
  {
   "cell_type": "markdown",
   "id": "10e03e68",
   "metadata": {},
   "source": [
    "## Import Packages"
   ]
  },
  {
   "cell_type": "code",
   "execution_count": 1,
   "id": "c01ac51e",
   "metadata": {},
   "outputs": [
    {
     "name": "stdout",
     "output_type": "stream",
     "text": [
      "Local cdn resources have problems on chrome/safari when used in jupyter-notebook. \n"
     ]
    }
   ],
   "source": [
    "import socket\n",
    "import time\n",
    "\n",
    "import numpy  as np\n",
    "import igraph as ig\n",
    "import matplotlib.pyplot as plt\n",
    "\n",
    "plt.rc(\"text\", usetex=True)\n",
    "\n",
    "%run ./2-ImplementationFactor.ipynb\n",
    "%run ./3-ImplementationPGM.ipynb\n",
    "%run ./customizedLBP.ipynb"
   ]
  },
  {
   "cell_type": "markdown",
   "id": "1f41cbd6",
   "metadata": {},
   "source": [
    "## Environment Configuration\n",
    "\n",
    "The configuration of the environment include:\n",
    "- HOST, PORT: Server setting\n",
    "- ENCODING_METHOD: Encoding method for the message communicate (do not change)\n",
    "- BUFFER_SIZE: Buffer size for server and client (do not change)\n",
    "- END, MSG_BREAK, DILIMITER_1, DILIMITER_2, MUL_SIGN, STATEMENT_ID_PREFIX: Setting for the message (do not change)\n",
    "- MAX_ITR: Maximum iteration run by the loopy belief propagation if it does not converge"
   ]
  },
  {
   "cell_type": "code",
   "execution_count": 2,
   "id": "0acea654",
   "metadata": {},
   "outputs": [],
   "source": [
    "# Server setting\n",
    "HOST = \"127.0.0.1\"\n",
    "PORT = 8080\n",
    "\n",
    "# Encoding method\n",
    "ENCODING_METHOD = \"UTF-8\"\n",
    "\n",
    "# Buffer size for the message\n",
    "BUFFER_SIZE = pow(2, 20)\n",
    "\n",
    "# Setting for the message\n",
    "END = \"END\"\n",
    "MSG_BREAK = \"BREAK\"\n",
    "DILIMITER_1 = ','\n",
    "DILIMITER_2 = \"&\"\n",
    "MUL_SIGN = '*'\n",
    "STATEMENT_ID_PREFIX = \"S_\"\n",
    "\n",
    "# Maximum iteration\n",
    "MAX_ITR = 20"
   ]
  },
  {
   "cell_type": "markdown",
   "id": "118005db",
   "metadata": {},
   "source": [
    "## Helper functions for server"
   ]
  },
  {
   "cell_type": "code",
   "execution_count": 3,
   "id": "fd3afdf8",
   "metadata": {},
   "outputs": [],
   "source": [
    "def factorLoader(factor_input):\n",
    "    tokens = factor_input.split(DILIMITER_2)\n",
    "    for idx in range(0, len(tokens), 4):\n",
    "        yield tokens[idx], tokens[idx+1], tokens[idx+2], tokens[idx+3]"
   ]
  },
  {
   "cell_type": "code",
   "execution_count": 4,
   "id": "733d5686",
   "metadata": {},
   "outputs": [],
   "source": [
    "def printGraphInput(str_):\n",
    "    print(\"graph input:\")\n",
    "    str_tokens = [i.split('(') for i in str_.split(')') if i != '']\n",
    "    for token in str_tokens:\n",
    "        print(token[0], token[1].split(','))"
   ]
  },
  {
   "cell_type": "code",
   "execution_count": 5,
   "id": "612baf15",
   "metadata": {},
   "outputs": [],
   "source": [
    "def checkDuplicateVar(str_):\n",
    "    str_tokens = [i.split('(') for i in str_.split(')') if i != '']\n",
    "    for token in str_tokens:\n",
    "        vars = token[1].split(',')\n",
    "        if len(vars) != len(set(vars)):\n",
    "            print(\"contain duplicate variables: \", token[0])\n",
    "            print(vars)\n",
    "            raise ValueError('Duplicated variables: ' + token[0])"
   ]
  },
  {
   "cell_type": "code",
   "execution_count": 6,
   "id": "515d2c09",
   "metadata": {},
   "outputs": [],
   "source": [
    "def printFactorInput(factor_input):\n",
    "    print(\"factor input:\")\n",
    "    tokens = factor_input.split(DILIMITER_2)\n",
    "    for idx in range(0, len(tokens), 4):\n",
    "        print(\"Node:\", tokens[idx], tokens[idx+1], tokens[idx+2], tokens[idx+3])"
   ]
  },
  {
   "cell_type": "code",
   "execution_count": 7,
   "id": "8e30fd63",
   "metadata": {},
   "outputs": [],
   "source": [
    "def recvMsg(conn):\n",
    "    graph_input = \"\"\n",
    "    factor_input = \"\"\n",
    "    \n",
    "    # Read Graph Input\n",
    "    while True:\n",
    "        message = conn.recv(BUFFER_SIZE)\n",
    "        if not message:\n",
    "            return None, None\n",
    "        message_str = message.decode(ENCODING_METHOD)\n",
    "        if message_str == MSG_BREAK:\n",
    "            break\n",
    "        else:\n",
    "            graph_input += message_str\n",
    "    \n",
    "    # Read Factor Input\n",
    "    while True:\n",
    "        message = conn.recv(BUFFER_SIZE)\n",
    "        if not message:\n",
    "            return None, None\n",
    "        message_str = message.decode(ENCODING_METHOD)\n",
    "        if message_str == MSG_BREAK:\n",
    "            break\n",
    "        else:\n",
    "            factor_input += message_str\n",
    "    \n",
    "    print(\"graph input size: \", len(graph_input))\n",
    "    print(\"factor input size: \", len(factor_input))\n",
    "    \n",
    "    return graph_input, factor_input "
   ]
  },
  {
   "cell_type": "code",
   "execution_count": 8,
   "id": "2b238f51",
   "metadata": {},
   "outputs": [],
   "source": [
    "def printNodeCount(graph):\n",
    "    factor_node_count = 0\n",
    "    var_node_count = 0\n",
    "    \n",
    "    for i in range(graph.vcount()):\n",
    "        if graph.vs[i]['is_factor']:\n",
    "            factor_node_count += 1\n",
    "        else:\n",
    "            var_node_count += 1\n",
    "            \n",
    "    print(\"var node count:\", var_node_count, \"factor node count:\", factor_node_count, \"total:\", factor_node_count + var_node_count)\n",
    "    print(\"edges count:\", graph.ecount())"
   ]
  },
  {
   "cell_type": "markdown",
   "id": "f9c2d249",
   "metadata": {},
   "source": [
    "## Server"
   ]
  },
  {
   "cell_type": "code",
   "execution_count": 9,
   "id": "3c50b0f0",
   "metadata": {},
   "outputs": [],
   "source": [
    "def startServer():\n",
    "    with socket.socket(socket.AF_INET, socket.SOCK_STREAM) as s:\n",
    "        s.bind((HOST, PORT))\n",
    "        stillWorking = True\n",
    "        while stillWorking:\n",
    "            s.listen()\n",
    "            conn, addr = s.accept()\n",
    "            with conn:\n",
    "                print(f\"Connected by {addr}\")\n",
    "\n",
    "                while True:\n",
    "                    print(\"-\"*20)\n",
    "                    graph_input, factor_input = recvMsg(conn)\n",
    "                    \n",
    "                    if not graph_input or not factor_input:\n",
    "#                         print(\"Error: Graph input or factor input is null\")\n",
    "                        response = \"\".encode(ENCODING_METHOD)\n",
    "                        conn.sendall(response)\n",
    "                        break\n",
    "\n",
    "#                     graph_input = graph_input.decode(ENCODING_METHOD)\n",
    "#                     factor_input = factor_input.decode(ENCODING_METHOD)\n",
    "                    \n",
    "                    \n",
    "#                     print(\"graph_input\", graph_input)\n",
    "#                     print(\"factor_input\", factor_input)\n",
    "#                     printGraphInput(graph_input)\n",
    "#                     printFactorInput(factor_input)\n",
    "        \n",
    "                    checkDuplicateVar(graph_input)\n",
    "                    if graph_input == END and factor_input == END:\n",
    "                        output_str = END\n",
    "                        response = output_str.encode(ENCODING_METHOD)\n",
    "                        print(\"response:\", response)\n",
    "                        conn.sendall(response)\n",
    "                        print(\"Terminate server...\")\n",
    "                        stillWorking = False\n",
    "                        break\n",
    "\n",
    "                    fg = string2factor_graph(graph_input)\n",
    "\n",
    "                    predIDs_all = set()\n",
    "                    for order, constraintID, predIDs_str, probs_str in factorLoader(factor_input):\n",
    "                        try:\n",
    "                            predIDs = predIDs_str.split(DILIMITER_1)\n",
    "\n",
    "        #                     print(predIDs)\n",
    "                            predIDs_all.update(predIDs)\n",
    "                            predCount = len(predIDs)\n",
    "\n",
    "                            shape = [2 for _ in range(predCount)]\n",
    "                            shape = tuple(shape)\n",
    "\n",
    "                            probs_tokens = probs_str.split(DILIMITER_1)\n",
    "                            \n",
    "                            probs = []\n",
    "                            for probs_token in probs_tokens:\n",
    "                                probs_str, count = probs_token.split(MUL_SIGN)\n",
    "                                count = int(count)\n",
    "                                prob = float(probs_str)\n",
    "                                for _ in range(count):\n",
    "                                    probs.append(prob)\n",
    "                                    \n",
    "                            probs = np.array(probs)\n",
    "                            probs = probs.reshape(shape)\n",
    "\n",
    "                            fg.change_factor_distribution(constraintID, factor(predIDs,  probs))\n",
    "                        except Exception as e:\n",
    "                            print(e)\n",
    "                            print(\"constraintID:\", constraintID)\n",
    "                            print(\"predIDs_str:\", predIDs_str)\n",
    "                            print(\"probs_str:\", probs_str)\n",
    "                            return\n",
    "\n",
    "                    printNodeCount(fg.get_graph())\n",
    "                            \n",
    "                    lbp = myLBP(fg)\n",
    "                    start = time.time()\n",
    "                    margProb = lbp.belief(predIDs_all, MAX_ITR)\n",
    "                    end = time.time()\n",
    "                    \n",
    "                    print(\"time needed: \", end - start)\n",
    "                    plot_factor_graph(fg)\n",
    "                    output_str = \"\"\n",
    "                    for predID, prob in margProb.items():\n",
    "#                         print(predID, prob)\n",
    "                        output_str += predID + DILIMITER_1 + str(prob)\n",
    "                        output_str += DILIMITER_2\n",
    "\n",
    "                    output_str = output_str[:-1]\n",
    "                    response = output_str.encode(ENCODING_METHOD)\n",
    "#                     print(\"response:\", response)\n",
    "                    conn.sendall(response)"
   ]
  },
  {
   "cell_type": "code",
   "execution_count": null,
   "id": "6a7697f4",
   "metadata": {},
   "outputs": [
    {
     "name": "stdout",
     "output_type": "stream",
     "text": [
      "Connected by ('127.0.0.1', 51102)\n",
      "--------------------\n",
      "graph input size:  1256\n",
      "factor input size:  1467\n",
      "var node count: 4 factor node count: 10 total: 14\n",
      "edges count: 20\n",
      "time needed:  0.38801050186157227\n",
      "Local cdn resources have problems on chrome/safari when used in jupyter-notebook. \n",
      "--------------------\n",
      "Connected by ('127.0.0.1', 51103)\n",
      "--------------------\n",
      "graph input size:  181\n",
      "factor input size:  243\n",
      "var node count: 2 factor node count: 3 total: 5\n",
      "edges count: 5\n",
      "time needed:  0.008428096771240234\n",
      "Local cdn resources have problems on chrome/safari when used in jupyter-notebook. \n",
      "--------------------\n",
      "Connected by ('127.0.0.1', 51104)\n",
      "--------------------\n",
      "graph input size:  736\n",
      "factor input size:  909\n",
      "var node count: 4 factor node count: 6 total: 10\n",
      "edges count: 15\n",
      "time needed:  0.1286332607269287\n",
      "Local cdn resources have problems on chrome/safari when used in jupyter-notebook. \n",
      "--------------------\n",
      "Connected by ('127.0.0.1', 51105)\n",
      "--------------------\n",
      "graph input size:  801\n",
      "factor input size:  946\n",
      "var node count: 4 factor node count: 6 total: 10\n",
      "edges count: 15\n",
      "time needed:  0.13577795028686523\n",
      "Local cdn resources have problems on chrome/safari when used in jupyter-notebook. \n",
      "--------------------\n"
     ]
    }
   ],
   "source": [
    "startServer()"
   ]
  },
  {
   "cell_type": "code",
   "execution_count": null,
   "id": "4458d355",
   "metadata": {},
   "outputs": [],
   "source": []
  },
  {
   "cell_type": "code",
   "execution_count": null,
   "id": "c1cc781c",
   "metadata": {},
   "outputs": [],
   "source": []
  },
  {
   "cell_type": "code",
   "execution_count": null,
   "id": "7db088f1",
   "metadata": {},
   "outputs": [],
   "source": []
  },
  {
   "cell_type": "code",
   "execution_count": null,
   "id": "74abeaf4",
   "metadata": {},
   "outputs": [],
   "source": []
  },
  {
   "cell_type": "code",
   "execution_count": null,
   "id": "49b4d5a6",
   "metadata": {},
   "outputs": [],
   "source": []
  },
  {
   "cell_type": "code",
   "execution_count": null,
   "id": "159ef7a5",
   "metadata": {},
   "outputs": [],
   "source": []
  },
  {
   "cell_type": "code",
   "execution_count": null,
   "id": "8388ff50",
   "metadata": {},
   "outputs": [],
   "source": []
  },
  {
   "cell_type": "code",
   "execution_count": null,
   "id": "dce54814",
   "metadata": {},
   "outputs": [],
   "source": []
  }
 ],
 "metadata": {
  "kernelspec": {
   "display_name": "Python 3 (ipykernel)",
   "language": "python",
   "name": "python3"
  },
  "language_info": {
   "codemirror_mode": {
    "name": "ipython",
    "version": 3
   },
   "file_extension": ".py",
   "mimetype": "text/x-python",
   "name": "python",
   "nbconvert_exporter": "python",
   "pygments_lexer": "ipython3",
   "version": "3.10.6"
  }
 },
 "nbformat": 4,
 "nbformat_minor": 5
}
